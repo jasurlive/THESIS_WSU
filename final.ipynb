{
 "cells": [
  {
   "cell_type": "markdown",
   "id": "bbe84ed7",
   "metadata": {},
   "source": [
    "# Predictive Maintenance using ML and AI\n"
   ]
  },
  {
   "cell_type": "markdown",
   "id": "a2e6c54e",
   "metadata": {},
   "source": [
    "### Step 1. Preparing the data (excel sheet)"
   ]
  },
  {
   "cell_type": "code",
   "execution_count": null,
   "id": "28ea2b5c",
   "metadata": {},
   "outputs": [],
   "source": [
    "import pandas as pd\n",
    "import numpy as np\n",
    "\n",
    "# Load Excel (header at row 2)\n",
    "df = pd.read_excel(\n",
    "    \"dataset/faults/LocoFault_Data_38616_04042025_135209PART1.XLSX\",\n",
    "    sheet_name=\"SHEET\",\n",
    "    header=2,\n",
    ")"
   ]
  },
  {
   "cell_type": "code",
   "execution_count": null,
   "id": "85235b82",
   "metadata": {},
   "outputs": [],
   "source": [
    "# Clean column names and keep relevant columns\n",
    "df.rename(columns=lambda x: str(x).strip(), inplace=True)\n",
    "df = df[[\"Date /Time\", \"Fault Code\", \"Fault-Description\"]].copy()\n",
    "df.columns = [\"DateTime\", \"FaultCode\", \"FaultDescription\"]"
   ]
  },
  {
   "cell_type": "code",
   "execution_count": null,
   "id": "908da427",
   "metadata": {},
   "outputs": [],
   "source": [
    "# Convert types and drop invalid rows\n",
    "df[\"DateTime\"] = pd.to_datetime(df[\"DateTime\"], errors=\"coerce\")\n",
    "df[\"FaultCode\"] = pd.to_numeric(df[\"FaultCode\"], errors=\"coerce\")\n",
    "df.dropna(subset=[\"DateTime\", \"FaultCode\"], inplace=True)\n",
    "df.set_index(\"DateTime\", inplace=True)"
   ]
  },
  {
   "cell_type": "code",
   "execution_count": null,
   "id": "c1cf1c2b",
   "metadata": {},
   "outputs": [],
   "source": [
    "# Keep only ASCU-related faults, skipping NODISP, Recovered, and MCC\n",
    "df = df[df[\"FaultDescription\"].str.contains(\"ASCU\", case=False, na=False)]\n",
    "df = df[~df[\"FaultDescription\"].str.contains(\"NODISP\", case=False, na=False)]\n",
    "df = df[~df[\"FaultDescription\"].str.contains(\"Recovered\", case=False, na=False)]\n",
    "df = df[~df[\"FaultDescription\"].str.contains(\"MCC\", case=False, na=False)]"
   ]
  },
  {
   "cell_type": "markdown",
   "id": "c1dcb67c",
   "metadata": {},
   "source": [
    "### Now the data is ready for analysis!"
   ]
  }
 ],
 "metadata": {
  "language_info": {
   "name": "python"
  }
 },
 "nbformat": 4,
 "nbformat_minor": 5
}
